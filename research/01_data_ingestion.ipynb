{
 "cells": [
  {
   "cell_type": "code",
   "execution_count": 8,
   "metadata": {},
   "outputs": [],
   "source": [
    "import os"
   ]
  },
  {
   "cell_type": "code",
   "execution_count": 9,
   "metadata": {},
   "outputs": [
    {
     "data": {
      "text/plain": [
       "'c:\\\\Project\\\\Image-Classification-AI-Model\\\\research'"
      ]
     },
     "execution_count": 9,
     "metadata": {},
     "output_type": "execute_result"
    }
   ],
   "source": [
    "%pwd"
   ]
  },
  {
   "cell_type": "code",
   "execution_count": 10,
   "metadata": {},
   "outputs": [],
   "source": [
    "os.chdir(r\"C:\\Project\\Image-Classification-AI-Model\")"
   ]
  },
  {
   "cell_type": "code",
   "execution_count": 11,
   "metadata": {},
   "outputs": [
    {
     "data": {
      "text/plain": [
       "'C:\\\\Project\\\\Image-Classification-AI-Model'"
      ]
     },
     "execution_count": 11,
     "metadata": {},
     "output_type": "execute_result"
    }
   ],
   "source": [
    "%pwd"
   ]
  },
  {
   "cell_type": "code",
   "execution_count": 12,
   "metadata": {},
   "outputs": [],
   "source": [
    "from dataclasses import dataclass\n",
    "from pathlib import Path"
   ]
  },
  {
   "cell_type": "code",
   "execution_count": 59,
   "metadata": {},
   "outputs": [],
   "source": [
    "@dataclass(frozen=True)\n",
    "class DataIngestionConfig:\n",
    "    root_dir: Path\n",
    "    source_url: str\n",
    "    local_data_file: Path\n",
    "    unzip_dir: Path\n"
   ]
  },
  {
   "cell_type": "code",
   "execution_count": 29,
   "metadata": {},
   "outputs": [],
   "source": [
    "from src.cnnClassifier.constants import*\n",
    "from src.cnnClassifier.utils.common import read_yaml, create_directories"
   ]
  },
  {
   "cell_type": "code",
   "execution_count": 15,
   "metadata": {},
   "outputs": [
    {
     "name": "stdout",
     "output_type": "stream",
     "text": [
      "[2023-12-06 15:35:17,965: INFO: common: yaml file: config\\config.yaml loaded successfully]\n"
     ]
    }
   ],
   "source": [
    "x = read_yaml(CONFIG_FILE_PATH)"
   ]
  },
  {
   "cell_type": "code",
   "execution_count": 16,
   "metadata": {},
   "outputs": [
    {
     "data": {
      "text/plain": [
       "ConfigBox({'root_dir': 'artifacts/data_ingestion', 'source_URL': 'https://drive.google.com/file/d/1z0mreUtRmR-P-magILsDR3T7M6IkGXtY/view?usp=sharing', 'local_data_file': 'artifacts/data_ingestion/data.zip', 'unzip_dir': 'artifacts/data_ingestion'})"
      ]
     },
     "execution_count": 16,
     "metadata": {},
     "output_type": "execute_result"
    }
   ],
   "source": [
    "x.data_ingestion"
   ]
  },
  {
   "cell_type": "code",
   "execution_count": 30,
   "metadata": {},
   "outputs": [],
   "source": [
    "from box import ConfigBox"
   ]
  },
  {
   "cell_type": "code",
   "execution_count": 60,
   "metadata": {},
   "outputs": [],
   "source": [
    "class ConfigurationManager:\n",
    "        def __init__(self, config_filepath = CONFIG_FILE_PATH, params_filepath = PARAM_FILE_PATH):\n",
    "                 \n",
    "                 self.config = read_yaml(config_filepath)\n",
    "                 print(self.config)\n",
    "                 self.params = read_yaml(params_filepath)\n",
    "                 print(self.params)\n",
    "                 create_directories([self.config.artifacts_root])   \n",
    "                 print(create_directories([self.config.artifacts_root]))\n",
    "\n",
    "        def get_data_ingestion_config(self) -> DataIngestionConfig:\n",
    "            config = self.config.data_ingestion\n",
    "            create_directories([config.root_dir])\n",
    "\n",
    "            data_ingestion_config = DataIngestionConfig(\n",
    "                    root_dir= config.root_dir,\n",
    "                    source_url=config.source_url,\n",
    "                    local_data_file=config.local_data_file,\n",
    "                    unzip_dir=config.unzip_dir)\n",
    "            return data_ingestion_config             \n"
   ]
  },
  {
   "cell_type": "code",
   "execution_count": 62,
   "metadata": {},
   "outputs": [],
   "source": [
    "import zipfile\n",
    "import gdown\n",
    "from src.cnnClassifier import logger\n",
    "from src.cnnClassifier.utils.common import get_size\n",
    "from zipfile import ZipFile "
   ]
  },
  {
   "cell_type": "code",
   "execution_count": 70,
   "metadata": {},
   "outputs": [],
   "source": [
    "class DataIngestion:\n",
    "    def __init__(self, config: DataIngestionConfig):\n",
    "        self.config = config\n",
    "\n",
    "\n",
    "    def download_file(self):\n",
    "        \"\"\"feth data from url\"\"\"\n",
    "        try:\n",
    "            dataset_url = self.config.source_url\n",
    "            print(dataset_url)\n",
    "            zip_download_dir = self.config.local_data_file\n",
    "            print(\"file_path:\",f\"File path: {self.config.local_data_file}\")\n",
    "            print(\"extension:\",f\"File extension: {self.config.local_data_file}\")\n",
    "            # print(zip_download_dir)\n",
    "            # print()\n",
    "           \n",
    "            os.makedirs(\"artifacts/data_ingestion\", exist_ok=True)\n",
    "            logger.info(f\"Downloading data from {dataset_url} into file {zip_download_dir}\")\n",
    "            file_id = dataset_url.split(\"/\")[-2]\n",
    "            prefix = \"https://drive.google.com/uc?id=\"\n",
    "            gdown.download(prefix+file_id, zip_download_dir)\n",
    "            logger.info(f\"Downloaded data from {dataset_url} info file {zip_download_dir}\")\n",
    "        except Exception as e:\n",
    "            raise e\n",
    "    def extract_zip_file(self):\n",
    "        \"\"\"\n",
    "        zip_file_path: str\n",
    "        Extracts the zip file into data directory\n",
    "        function return None\n",
    "\n",
    "        \"\"\"\n",
    "        unzip_path = self.config.unzip_dir\n",
    "        print(\"unzip_path:\", unzip_path)\n",
    "        os.makedirs(unzip_path,exist_ok=True)\n",
    "        print(\"zip:\", self.config.local_data_file)\n",
    "        try:\n",
    "            with zipfile.ZipFile(self.config.local_data_file, 'r') as zip_ref:\n",
    "            # Check if the file is a valid zip file\n",
    "                if not zip_ref.testzip():\n",
    "                    zip_ref.extractall(unzip_path)\n",
    "                    print(\"Successfully extracted zip file.\")\n",
    "                else:\n",
    "                    print(\"Error: The file is not a valid zip file.\")\n",
    "        except zipfile.BadZipFile:\n",
    "            print(\"Error: The file is not a valid zip file.\")\n",
    "        except Exception as e:\n",
    "            print(f\"Error: {e}\")\n",
    "\n",
    "        "
   ]
  },
  {
   "cell_type": "code",
   "execution_count": 71,
   "metadata": {},
   "outputs": [
    {
     "name": "stdout",
     "output_type": "stream",
     "text": [
      "[2023-12-06 16:39:42,812: INFO: common: yaml file: config\\config.yaml loaded successfully]\n",
      "{'artifacts_root': 'artifacts', 'data_ingestion': {'root_dir': 'artifacts/data_ingestion', 'source_url': 'https://drive.google.com/file/d/1x7zTzGJTyMe5UAajyAT6CalcyZjc82Pn/view?usp=drive_link', 'local_data_file': 'artifacts/data_ingestion/data.zip', 'unzip_dir': 'artifacts/data_ingestion'}}\n",
      "[2023-12-06 16:39:42,814: INFO: common: yaml file: params.yaml loaded successfully]\n",
      "{'key': 'value'}\n",
      "[2023-12-06 16:39:42,815: INFO: common: created directory at: artifacts]\n",
      "[2023-12-06 16:39:42,815: INFO: common: created directory at: artifacts]\n",
      "None\n",
      "[2023-12-06 16:39:42,816: INFO: common: created directory at: artifacts/data_ingestion]\n",
      "https://drive.google.com/file/d/1x7zTzGJTyMe5UAajyAT6CalcyZjc82Pn/view?usp=drive_link\n",
      "file_path: File path: artifacts/data_ingestion/data.zip\n",
      "extension: File extension: artifacts/data_ingestion/data.zip\n",
      "[2023-12-06 16:39:42,817: INFO: 1570726521: Downloading data from https://drive.google.com/file/d/1x7zTzGJTyMe5UAajyAT6CalcyZjc82Pn/view?usp=drive_link into file artifacts/data_ingestion/data.zip]\n"
     ]
    },
    {
     "name": "stderr",
     "output_type": "stream",
     "text": [
      "Downloading...\n",
      "From (uriginal): https://drive.google.com/uc?id=1x7zTzGJTyMe5UAajyAT6CalcyZjc82Pn\n",
      "From (redirected): https://drive.google.com/uc?id=1x7zTzGJTyMe5UAajyAT6CalcyZjc82Pn&confirm=t&uuid=4cc7fc82-ea50-4f99-82be-182c1e9eec89\n",
      "To: C:\\Project\\Image-Classification-AI-Model\\artifacts\\data_ingestion\\data.zip\n",
      "100%|██████████| 68.1M/68.1M [00:13<00:00, 5.10MB/s]"
     ]
    },
    {
     "name": "stdout",
     "output_type": "stream",
     "text": [
      "[2023-12-06 16:39:58,930: INFO: 1570726521: Downloaded data from https://drive.google.com/file/d/1x7zTzGJTyMe5UAajyAT6CalcyZjc82Pn/view?usp=drive_link info file artifacts/data_ingestion/data.zip]\n"
     ]
    },
    {
     "name": "stderr",
     "output_type": "stream",
     "text": [
      "\n"
     ]
    },
    {
     "name": "stdout",
     "output_type": "stream",
     "text": [
      "unzip_path: artifacts/data_ingestion\n",
      "zip: artifacts/data_ingestion/data.zip\n",
      "Successfully extracted zip file.\n"
     ]
    }
   ],
   "source": [
    "try:\n",
    "    config = ConfigurationManager()\n",
    "    data_ingestion_config = config.get_data_ingestion_config()\n",
    "    data_ingestion = DataIngestion(config=data_ingestion_config)\n",
    "    data_ingestion.download_file()\n",
    "    data_ingestion.extract_zip_file()\n",
    "except Exception as e:\n",
    "    raise e"
   ]
  },
  {
   "cell_type": "code",
   "execution_count": null,
   "metadata": {},
   "outputs": [],
   "source": [
    "https://drive.google.com/file/d/1x7zTzGJTyMe5UAajyAT6CalcyZjc82Pn/view?usp=drive_link"
   ]
  },
  {
   "cell_type": "markdown",
   "metadata": {},
   "source": []
  },
  {
   "cell_type": "code",
   "execution_count": null,
   "metadata": {},
   "outputs": [],
   "source": []
  },
  {
   "cell_type": "code",
   "execution_count": null,
   "metadata": {},
   "outputs": [],
   "source": []
  },
  {
   "cell_type": "code",
   "execution_count": null,
   "metadata": {},
   "outputs": [],
   "source": []
  },
  {
   "cell_type": "code",
   "execution_count": 35,
   "metadata": {},
   "outputs": [
    {
     "name": "stdout",
     "output_type": "stream",
     "text": [
      "[2023-12-06 09:49:22,229: INFO: common: yaml file: config\\config.yaml loaded successfully]\n"
     ]
    }
   ],
   "source": [
    "d=read_yaml(CONFIG_FILE_PATH)"
   ]
  },
  {
   "cell_type": "code",
   "execution_count": 36,
   "metadata": {},
   "outputs": [
    {
     "data": {
      "text/plain": [
       "'artifacts'"
      ]
     },
     "execution_count": 36,
     "metadata": {},
     "output_type": "execute_result"
    }
   ],
   "source": [
    "d.artifacts_root"
   ]
  },
  {
   "cell_type": "code",
   "execution_count": null,
   "metadata": {},
   "outputs": [],
   "source": []
  },
  {
   "cell_type": "code",
   "execution_count": null,
   "metadata": {},
   "outputs": [],
   "source": []
  },
  {
   "cell_type": "code",
   "execution_count": null,
   "metadata": {},
   "outputs": [],
   "source": []
  },
  {
   "cell_type": "code",
   "execution_count": null,
   "metadata": {},
   "outputs": [],
   "source": []
  },
  {
   "cell_type": "code",
   "execution_count": null,
   "metadata": {},
   "outputs": [],
   "source": []
  },
  {
   "cell_type": "code",
   "execution_count": null,
   "metadata": {},
   "outputs": [],
   "source": []
  },
  {
   "cell_type": "code",
   "execution_count": null,
   "metadata": {},
   "outputs": [],
   "source": []
  },
  {
   "cell_type": "code",
   "execution_count": null,
   "metadata": {},
   "outputs": [],
   "source": []
  },
  {
   "cell_type": "code",
   "execution_count": null,
   "metadata": {},
   "outputs": [],
   "source": []
  }
 ],
 "metadata": {
  "kernelspec": {
   "display_name": "image-classification",
   "language": "python",
   "name": "python3"
  },
  "language_info": {
   "codemirror_mode": {
    "name": "ipython",
    "version": 3
   },
   "file_extension": ".py",
   "mimetype": "text/x-python",
   "name": "python",
   "nbconvert_exporter": "python",
   "pygments_lexer": "ipython3",
   "version": "3.8.18"
  }
 },
 "nbformat": 4,
 "nbformat_minor": 2
}
